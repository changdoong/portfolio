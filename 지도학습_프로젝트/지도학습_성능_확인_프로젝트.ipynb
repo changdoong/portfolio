{
  "nbformat": 4,
  "nbformat_minor": 0,
  "metadata": {
    "colab": {
      "provenance": []
    },
    "kernelspec": {
      "name": "python3",
      "display_name": "Python 3"
    },
    "language_info": {
      "name": "python"
    }
  },
  "cells": [
    {
      "cell_type": "markdown",
      "source": [
        "# 지도학습 알고리즘 성능비교"
      ],
      "metadata": {
        "id": "zTWuIFhpTfvG"
      }
    },
    {
      "cell_type": "code",
      "execution_count": 28,
      "metadata": {
        "id": "ps-k69o5NAZC"
      },
      "outputs": [],
      "source": [
        "import seaborn as sns\n",
        "import pandas as pd\n",
        "import numpy as np"
      ]
    },
    {
      "cell_type": "markdown",
      "source": [
        "## 데이터 불러오기"
      ],
      "metadata": {
        "id": "s9tBl4kSTFUJ"
      }
    },
    {
      "cell_type": "code",
      "source": [
        "penguin_df = sns.load_dataset('penguins')\n",
        "penguin_df.head()"
      ],
      "metadata": {
        "id": "wP1ZBl0VND14",
        "colab": {
          "base_uri": "https://localhost:8080/",
          "height": 206
        },
        "outputId": "261886d3-c450-4f7e-ad1d-f5b0cf79bcab"
      },
      "execution_count": 29,
      "outputs": [
        {
          "output_type": "execute_result",
          "data": {
            "text/plain": [
              "  species     island  bill_length_mm  bill_depth_mm  flipper_length_mm  \\\n",
              "0  Adelie  Torgersen            39.1           18.7              181.0   \n",
              "1  Adelie  Torgersen            39.5           17.4              186.0   \n",
              "2  Adelie  Torgersen            40.3           18.0              195.0   \n",
              "3  Adelie  Torgersen             NaN            NaN                NaN   \n",
              "4  Adelie  Torgersen            36.7           19.3              193.0   \n",
              "\n",
              "   body_mass_g     sex  \n",
              "0       3750.0    Male  \n",
              "1       3800.0  Female  \n",
              "2       3250.0  Female  \n",
              "3          NaN     NaN  \n",
              "4       3450.0  Female  "
            ],
            "text/html": [
              "\n",
              "  <div id=\"df-565e9ffa-dc7f-400a-8d53-362261dfa6e6\" class=\"colab-df-container\">\n",
              "    <div>\n",
              "<style scoped>\n",
              "    .dataframe tbody tr th:only-of-type {\n",
              "        vertical-align: middle;\n",
              "    }\n",
              "\n",
              "    .dataframe tbody tr th {\n",
              "        vertical-align: top;\n",
              "    }\n",
              "\n",
              "    .dataframe thead th {\n",
              "        text-align: right;\n",
              "    }\n",
              "</style>\n",
              "<table border=\"1\" class=\"dataframe\">\n",
              "  <thead>\n",
              "    <tr style=\"text-align: right;\">\n",
              "      <th></th>\n",
              "      <th>species</th>\n",
              "      <th>island</th>\n",
              "      <th>bill_length_mm</th>\n",
              "      <th>bill_depth_mm</th>\n",
              "      <th>flipper_length_mm</th>\n",
              "      <th>body_mass_g</th>\n",
              "      <th>sex</th>\n",
              "    </tr>\n",
              "  </thead>\n",
              "  <tbody>\n",
              "    <tr>\n",
              "      <th>0</th>\n",
              "      <td>Adelie</td>\n",
              "      <td>Torgersen</td>\n",
              "      <td>39.1</td>\n",
              "      <td>18.7</td>\n",
              "      <td>181.0</td>\n",
              "      <td>3750.0</td>\n",
              "      <td>Male</td>\n",
              "    </tr>\n",
              "    <tr>\n",
              "      <th>1</th>\n",
              "      <td>Adelie</td>\n",
              "      <td>Torgersen</td>\n",
              "      <td>39.5</td>\n",
              "      <td>17.4</td>\n",
              "      <td>186.0</td>\n",
              "      <td>3800.0</td>\n",
              "      <td>Female</td>\n",
              "    </tr>\n",
              "    <tr>\n",
              "      <th>2</th>\n",
              "      <td>Adelie</td>\n",
              "      <td>Torgersen</td>\n",
              "      <td>40.3</td>\n",
              "      <td>18.0</td>\n",
              "      <td>195.0</td>\n",
              "      <td>3250.0</td>\n",
              "      <td>Female</td>\n",
              "    </tr>\n",
              "    <tr>\n",
              "      <th>3</th>\n",
              "      <td>Adelie</td>\n",
              "      <td>Torgersen</td>\n",
              "      <td>NaN</td>\n",
              "      <td>NaN</td>\n",
              "      <td>NaN</td>\n",
              "      <td>NaN</td>\n",
              "      <td>NaN</td>\n",
              "    </tr>\n",
              "    <tr>\n",
              "      <th>4</th>\n",
              "      <td>Adelie</td>\n",
              "      <td>Torgersen</td>\n",
              "      <td>36.7</td>\n",
              "      <td>19.3</td>\n",
              "      <td>193.0</td>\n",
              "      <td>3450.0</td>\n",
              "      <td>Female</td>\n",
              "    </tr>\n",
              "  </tbody>\n",
              "</table>\n",
              "</div>\n",
              "    <div class=\"colab-df-buttons\">\n",
              "\n",
              "  <div class=\"colab-df-container\">\n",
              "    <button class=\"colab-df-convert\" onclick=\"convertToInteractive('df-565e9ffa-dc7f-400a-8d53-362261dfa6e6')\"\n",
              "            title=\"Convert this dataframe to an interactive table.\"\n",
              "            style=\"display:none;\">\n",
              "\n",
              "  <svg xmlns=\"http://www.w3.org/2000/svg\" height=\"24px\" viewBox=\"0 -960 960 960\">\n",
              "    <path d=\"M120-120v-720h720v720H120Zm60-500h600v-160H180v160Zm220 220h160v-160H400v160Zm0 220h160v-160H400v160ZM180-400h160v-160H180v160Zm440 0h160v-160H620v160ZM180-180h160v-160H180v160Zm440 0h160v-160H620v160Z\"/>\n",
              "  </svg>\n",
              "    </button>\n",
              "\n",
              "  <style>\n",
              "    .colab-df-container {\n",
              "      display:flex;\n",
              "      gap: 12px;\n",
              "    }\n",
              "\n",
              "    .colab-df-convert {\n",
              "      background-color: #E8F0FE;\n",
              "      border: none;\n",
              "      border-radius: 50%;\n",
              "      cursor: pointer;\n",
              "      display: none;\n",
              "      fill: #1967D2;\n",
              "      height: 32px;\n",
              "      padding: 0 0 0 0;\n",
              "      width: 32px;\n",
              "    }\n",
              "\n",
              "    .colab-df-convert:hover {\n",
              "      background-color: #E2EBFA;\n",
              "      box-shadow: 0px 1px 2px rgba(60, 64, 67, 0.3), 0px 1px 3px 1px rgba(60, 64, 67, 0.15);\n",
              "      fill: #174EA6;\n",
              "    }\n",
              "\n",
              "    .colab-df-buttons div {\n",
              "      margin-bottom: 4px;\n",
              "    }\n",
              "\n",
              "    [theme=dark] .colab-df-convert {\n",
              "      background-color: #3B4455;\n",
              "      fill: #D2E3FC;\n",
              "    }\n",
              "\n",
              "    [theme=dark] .colab-df-convert:hover {\n",
              "      background-color: #434B5C;\n",
              "      box-shadow: 0px 1px 3px 1px rgba(0, 0, 0, 0.15);\n",
              "      filter: drop-shadow(0px 1px 2px rgba(0, 0, 0, 0.3));\n",
              "      fill: #FFFFFF;\n",
              "    }\n",
              "  </style>\n",
              "\n",
              "    <script>\n",
              "      const buttonEl =\n",
              "        document.querySelector('#df-565e9ffa-dc7f-400a-8d53-362261dfa6e6 button.colab-df-convert');\n",
              "      buttonEl.style.display =\n",
              "        google.colab.kernel.accessAllowed ? 'block' : 'none';\n",
              "\n",
              "      async function convertToInteractive(key) {\n",
              "        const element = document.querySelector('#df-565e9ffa-dc7f-400a-8d53-362261dfa6e6');\n",
              "        const dataTable =\n",
              "          await google.colab.kernel.invokeFunction('convertToInteractive',\n",
              "                                                    [key], {});\n",
              "        if (!dataTable) return;\n",
              "\n",
              "        const docLinkHtml = 'Like what you see? Visit the ' +\n",
              "          '<a target=\"_blank\" href=https://colab.research.google.com/notebooks/data_table.ipynb>data table notebook</a>'\n",
              "          + ' to learn more about interactive tables.';\n",
              "        element.innerHTML = '';\n",
              "        dataTable['output_type'] = 'display_data';\n",
              "        await google.colab.output.renderOutput(dataTable, element);\n",
              "        const docLink = document.createElement('div');\n",
              "        docLink.innerHTML = docLinkHtml;\n",
              "        element.appendChild(docLink);\n",
              "      }\n",
              "    </script>\n",
              "  </div>\n",
              "\n",
              "\n",
              "    <div id=\"df-b8b3b88f-ac89-422d-bb25-60dd08a57466\">\n",
              "      <button class=\"colab-df-quickchart\" onclick=\"quickchart('df-b8b3b88f-ac89-422d-bb25-60dd08a57466')\"\n",
              "                title=\"Suggest charts\"\n",
              "                style=\"display:none;\">\n",
              "\n",
              "<svg xmlns=\"http://www.w3.org/2000/svg\" height=\"24px\"viewBox=\"0 0 24 24\"\n",
              "     width=\"24px\">\n",
              "    <g>\n",
              "        <path d=\"M19 3H5c-1.1 0-2 .9-2 2v14c0 1.1.9 2 2 2h14c1.1 0 2-.9 2-2V5c0-1.1-.9-2-2-2zM9 17H7v-7h2v7zm4 0h-2V7h2v10zm4 0h-2v-4h2v4z\"/>\n",
              "    </g>\n",
              "</svg>\n",
              "      </button>\n",
              "\n",
              "<style>\n",
              "  .colab-df-quickchart {\n",
              "      --bg-color: #E8F0FE;\n",
              "      --fill-color: #1967D2;\n",
              "      --hover-bg-color: #E2EBFA;\n",
              "      --hover-fill-color: #174EA6;\n",
              "      --disabled-fill-color: #AAA;\n",
              "      --disabled-bg-color: #DDD;\n",
              "  }\n",
              "\n",
              "  [theme=dark] .colab-df-quickchart {\n",
              "      --bg-color: #3B4455;\n",
              "      --fill-color: #D2E3FC;\n",
              "      --hover-bg-color: #434B5C;\n",
              "      --hover-fill-color: #FFFFFF;\n",
              "      --disabled-bg-color: #3B4455;\n",
              "      --disabled-fill-color: #666;\n",
              "  }\n",
              "\n",
              "  .colab-df-quickchart {\n",
              "    background-color: var(--bg-color);\n",
              "    border: none;\n",
              "    border-radius: 50%;\n",
              "    cursor: pointer;\n",
              "    display: none;\n",
              "    fill: var(--fill-color);\n",
              "    height: 32px;\n",
              "    padding: 0;\n",
              "    width: 32px;\n",
              "  }\n",
              "\n",
              "  .colab-df-quickchart:hover {\n",
              "    background-color: var(--hover-bg-color);\n",
              "    box-shadow: 0 1px 2px rgba(60, 64, 67, 0.3), 0 1px 3px 1px rgba(60, 64, 67, 0.15);\n",
              "    fill: var(--button-hover-fill-color);\n",
              "  }\n",
              "\n",
              "  .colab-df-quickchart-complete:disabled,\n",
              "  .colab-df-quickchart-complete:disabled:hover {\n",
              "    background-color: var(--disabled-bg-color);\n",
              "    fill: var(--disabled-fill-color);\n",
              "    box-shadow: none;\n",
              "  }\n",
              "\n",
              "  .colab-df-spinner {\n",
              "    border: 2px solid var(--fill-color);\n",
              "    border-color: transparent;\n",
              "    border-bottom-color: var(--fill-color);\n",
              "    animation:\n",
              "      spin 1s steps(1) infinite;\n",
              "  }\n",
              "\n",
              "  @keyframes spin {\n",
              "    0% {\n",
              "      border-color: transparent;\n",
              "      border-bottom-color: var(--fill-color);\n",
              "      border-left-color: var(--fill-color);\n",
              "    }\n",
              "    20% {\n",
              "      border-color: transparent;\n",
              "      border-left-color: var(--fill-color);\n",
              "      border-top-color: var(--fill-color);\n",
              "    }\n",
              "    30% {\n",
              "      border-color: transparent;\n",
              "      border-left-color: var(--fill-color);\n",
              "      border-top-color: var(--fill-color);\n",
              "      border-right-color: var(--fill-color);\n",
              "    }\n",
              "    40% {\n",
              "      border-color: transparent;\n",
              "      border-right-color: var(--fill-color);\n",
              "      border-top-color: var(--fill-color);\n",
              "    }\n",
              "    60% {\n",
              "      border-color: transparent;\n",
              "      border-right-color: var(--fill-color);\n",
              "    }\n",
              "    80% {\n",
              "      border-color: transparent;\n",
              "      border-right-color: var(--fill-color);\n",
              "      border-bottom-color: var(--fill-color);\n",
              "    }\n",
              "    90% {\n",
              "      border-color: transparent;\n",
              "      border-bottom-color: var(--fill-color);\n",
              "    }\n",
              "  }\n",
              "</style>\n",
              "\n",
              "      <script>\n",
              "        async function quickchart(key) {\n",
              "          const quickchartButtonEl =\n",
              "            document.querySelector('#' + key + ' button');\n",
              "          quickchartButtonEl.disabled = true;  // To prevent multiple clicks.\n",
              "          quickchartButtonEl.classList.add('colab-df-spinner');\n",
              "          try {\n",
              "            const charts = await google.colab.kernel.invokeFunction(\n",
              "                'suggestCharts', [key], {});\n",
              "          } catch (error) {\n",
              "            console.error('Error during call to suggestCharts:', error);\n",
              "          }\n",
              "          quickchartButtonEl.classList.remove('colab-df-spinner');\n",
              "          quickchartButtonEl.classList.add('colab-df-quickchart-complete');\n",
              "        }\n",
              "        (() => {\n",
              "          let quickchartButtonEl =\n",
              "            document.querySelector('#df-b8b3b88f-ac89-422d-bb25-60dd08a57466 button');\n",
              "          quickchartButtonEl.style.display =\n",
              "            google.colab.kernel.accessAllowed ? 'block' : 'none';\n",
              "        })();\n",
              "      </script>\n",
              "    </div>\n",
              "\n",
              "    </div>\n",
              "  </div>\n"
            ],
            "application/vnd.google.colaboratory.intrinsic+json": {
              "type": "dataframe",
              "variable_name": "penguin_df",
              "summary": "{\n  \"name\": \"penguin_df\",\n  \"rows\": 344,\n  \"fields\": [\n    {\n      \"column\": \"species\",\n      \"properties\": {\n        \"dtype\": \"category\",\n        \"num_unique_values\": 3,\n        \"samples\": [\n          \"Adelie\",\n          \"Chinstrap\",\n          \"Gentoo\"\n        ],\n        \"semantic_type\": \"\",\n        \"description\": \"\"\n      }\n    },\n    {\n      \"column\": \"island\",\n      \"properties\": {\n        \"dtype\": \"category\",\n        \"num_unique_values\": 3,\n        \"samples\": [\n          \"Torgersen\",\n          \"Biscoe\",\n          \"Dream\"\n        ],\n        \"semantic_type\": \"\",\n        \"description\": \"\"\n      }\n    },\n    {\n      \"column\": \"bill_length_mm\",\n      \"properties\": {\n        \"dtype\": \"number\",\n        \"std\": 5.459583713926532,\n        \"min\": 32.1,\n        \"max\": 59.6,\n        \"num_unique_values\": 164,\n        \"samples\": [\n          48.2,\n          49.8,\n          45.1\n        ],\n        \"semantic_type\": \"\",\n        \"description\": \"\"\n      }\n    },\n    {\n      \"column\": \"bill_depth_mm\",\n      \"properties\": {\n        \"dtype\": \"number\",\n        \"std\": 1.9747931568167816,\n        \"min\": 13.1,\n        \"max\": 21.5,\n        \"num_unique_values\": 80,\n        \"samples\": [\n          16.9,\n          18.7,\n          18.6\n        ],\n        \"semantic_type\": \"\",\n        \"description\": \"\"\n      }\n    },\n    {\n      \"column\": \"flipper_length_mm\",\n      \"properties\": {\n        \"dtype\": \"number\",\n        \"std\": 14.061713679356894,\n        \"min\": 172.0,\n        \"max\": 231.0,\n        \"num_unique_values\": 55,\n        \"samples\": [\n          201.0,\n          180.0,\n          212.0\n        ],\n        \"semantic_type\": \"\",\n        \"description\": \"\"\n      }\n    },\n    {\n      \"column\": \"body_mass_g\",\n      \"properties\": {\n        \"dtype\": \"number\",\n        \"std\": 801.9545356980954,\n        \"min\": 2700.0,\n        \"max\": 6300.0,\n        \"num_unique_values\": 94,\n        \"samples\": [\n          4350.0,\n          4150.0,\n          3525.0\n        ],\n        \"semantic_type\": \"\",\n        \"description\": \"\"\n      }\n    },\n    {\n      \"column\": \"sex\",\n      \"properties\": {\n        \"dtype\": \"category\",\n        \"num_unique_values\": 2,\n        \"samples\": [\n          \"Female\",\n          \"Male\"\n        ],\n        \"semantic_type\": \"\",\n        \"description\": \"\"\n      }\n    }\n  ]\n}"
            }
          },
          "metadata": {},
          "execution_count": 29
        }
      ]
    },
    {
      "cell_type": "markdown",
      "source": [
        "- species : 펭귄 종  (범주형)\n",
        "- island : 서식지 섬 이름 (범주형)\n",
        "- bill_length_mm : 부리 길이 (수치형)\n",
        "- bill_depth_mm : 부리 깊이 (수치형)\n",
        "- flipper_length_mm : 지느러미 길이 (수치형)\n",
        "- body_mass_g : 몸무게 (수치형)\n",
        "- sex : 성별(범주형)"
      ],
      "metadata": {
        "id": "T8Bf_-_UfvE-"
      }
    },
    {
      "cell_type": "code",
      "source": [
        "penguin_df['species'].unique()"
      ],
      "metadata": {
        "id": "Hye_e7eFNGdc",
        "colab": {
          "base_uri": "https://localhost:8080/"
        },
        "outputId": "ddeb3e55-4138-4ce9-b149-1aca6af26c13"
      },
      "execution_count": 30,
      "outputs": [
        {
          "output_type": "execute_result",
          "data": {
            "text/plain": [
              "array(['Adelie', 'Chinstrap', 'Gentoo'], dtype=object)"
            ]
          },
          "metadata": {},
          "execution_count": 30
        }
      ]
    },
    {
      "cell_type": "code",
      "source": [
        "penguin_df.info()"
      ],
      "metadata": {
        "id": "6dnA0sZCNJJn",
        "colab": {
          "base_uri": "https://localhost:8080/"
        },
        "outputId": "f1248cf0-791a-4fd2-bc0f-16bebd13522a"
      },
      "execution_count": 31,
      "outputs": [
        {
          "output_type": "stream",
          "name": "stdout",
          "text": [
            "<class 'pandas.core.frame.DataFrame'>\n",
            "RangeIndex: 344 entries, 0 to 343\n",
            "Data columns (total 7 columns):\n",
            " #   Column             Non-Null Count  Dtype  \n",
            "---  ------             --------------  -----  \n",
            " 0   species            344 non-null    object \n",
            " 1   island             344 non-null    object \n",
            " 2   bill_length_mm     342 non-null    float64\n",
            " 3   bill_depth_mm      342 non-null    float64\n",
            " 4   flipper_length_mm  342 non-null    float64\n",
            " 5   body_mass_g        342 non-null    float64\n",
            " 6   sex                333 non-null    object \n",
            "dtypes: float64(4), object(3)\n",
            "memory usage: 18.9+ KB\n"
          ]
        }
      ]
    },
    {
      "cell_type": "markdown",
      "source": [
        "## 데이터 전처리"
      ],
      "metadata": {
        "id": "D5QxXfJPTLwF"
      }
    },
    {
      "cell_type": "code",
      "source": [
        "from scipy.stats import chi2_contingency\n",
        "\n",
        "chi_df = penguin_df.dropna(subset=['species', 'sex'])  # 결측값 제거\n",
        "\n",
        "table = pd.crosstab(chi_df['species'], chi_df['sex'])\n",
        "\n",
        "chi2, p, dof, expected = chi2_contingency(table)\n",
        "\n",
        "print(\"Chi-squared value:\", chi2)\n",
        "print(\"p-value:\", p)\n",
        "print(\"Degrees of freedom:\", dof)\n",
        "print(\"Expected frequencies:\\n\", expected)\n"
      ],
      "metadata": {
        "colab": {
          "base_uri": "https://localhost:8080/"
        },
        "id": "ONEu6gR6ZTtw",
        "outputId": "6f5d5ea4-e62f-4d9b-c64a-87ffe8a0c04f"
      },
      "execution_count": 32,
      "outputs": [
        {
          "output_type": "stream",
          "name": "stdout",
          "text": [
            "Chi-squared value: 0.04860717014078318\n",
            "p-value: 0.9759893689765846\n",
            "Degrees of freedom: 2\n",
            "Expected frequencies:\n",
            " [[72.34234234 73.65765766]\n",
            " [33.69369369 34.30630631]\n",
            " [58.96396396 60.03603604]]\n"
          ]
        }
      ]
    },
    {
      "cell_type": "code",
      "source": [
        "m_penguin_df = penguin_df.drop(columns='sex').dropna()\n",
        "X = m_penguin_df.drop(columns='species')\n",
        "y = m_penguin_df['species']"
      ],
      "metadata": {
        "id": "UgkGFV6GNLBW"
      },
      "execution_count": 33,
      "outputs": []
    },
    {
      "cell_type": "code",
      "source": [
        "X.columns"
      ],
      "metadata": {
        "id": "hSvTmcukNk78",
        "colab": {
          "base_uri": "https://localhost:8080/"
        },
        "outputId": "6188aa73-2fa9-42d7-df95-f68bdcf266fa"
      },
      "execution_count": 34,
      "outputs": [
        {
          "output_type": "execute_result",
          "data": {
            "text/plain": [
              "Index(['island', 'bill_length_mm', 'bill_depth_mm', 'flipper_length_mm',\n",
              "       'body_mass_g'],\n",
              "      dtype='object')"
            ]
          },
          "metadata": {},
          "execution_count": 34
        }
      ]
    },
    {
      "cell_type": "markdown",
      "source": [
        "## 라벨 인코딩"
      ],
      "metadata": {
        "id": "aQQfQsTsTV9Z"
      }
    },
    {
      "cell_type": "code",
      "source": [
        "from sklearn.preprocessing import LabelEncoder\n",
        "\n",
        "le_y = LabelEncoder()\n",
        "y_encoded = le_y.fit_transform(y) # y 라벨 데이터 인코딩"
      ],
      "metadata": {
        "id": "ULhgkXrfNmIB"
      },
      "execution_count": 35,
      "outputs": []
    },
    {
      "cell_type": "code",
      "source": [
        "le_island = LabelEncoder()\n",
        "X['island'] = le_island.fit_transform(X['island'])"
      ],
      "metadata": {
        "id": "gcScpFcaOCW-"
      },
      "execution_count": 36,
      "outputs": []
    },
    {
      "cell_type": "markdown",
      "source": [
        "## 훈련데이터, 테스트데이터 분할"
      ],
      "metadata": {
        "id": "t890_BTVTaCO"
      }
    },
    {
      "cell_type": "code",
      "source": [
        "from sklearn.model_selection import train_test_split\n",
        "\n",
        "X_train, X_test, y_train, y_test = train_test_split(\n",
        "    X, y_encoded,\n",
        "    test_size=0.2,\n",
        "    random_state=2020158011\n",
        ")\n",
        "X_train, X_valid, y_train, y_valid = train_test_split(\n",
        "    X_train, y_train,\n",
        "    test_size=0.3,\n",
        "    random_state=2020158011\n",
        ")"
      ],
      "metadata": {
        "id": "qBgFYUHFOUse"
      },
      "execution_count": 37,
      "outputs": []
    },
    {
      "cell_type": "markdown",
      "source": [
        "## 분류나무 사용"
      ],
      "metadata": {
        "id": "ohjDw58eR2nT"
      }
    },
    {
      "cell_type": "code",
      "source": [
        "from sklearn.tree import DecisionTreeClassifier\n",
        "from graphviz import Source\n",
        "from IPython.display import Image\n",
        "from sklearn.tree import export_graphviz\n",
        "from sklearn.metrics import accuracy_score,confusion_matrix,f1_score\n",
        "\n",
        "clf_dt = DecisionTreeClassifier(random_state=2020158011,\n",
        "                                max_depth=3,\n",
        "                                criterion = 'entropy')\n",
        "clf_dt.fit(X_train, y_train)\n",
        "y_train_pred = clf_dt.predict(X_train)\n",
        "y_valid_pred = clf_dt.predict(X_valid)\n",
        "y_test_pred = clf_dt.predict(X_test)"
      ],
      "metadata": {
        "id": "nUofUEDkOzVJ"
      },
      "execution_count": 38,
      "outputs": []
    },
    {
      "cell_type": "code",
      "source": [
        "train_acc = accuracy_score(y_train, y_train_pred)\n",
        "valid_acc = accuracy_score(y_valid, y_valid_pred)\n",
        "test_acc = accuracy_score(y_test, y_test_pred)\n",
        "dt_f1 = f1_score(y_test, y_test_pred, average='macro')\n",
        "print('- Accuracy (Train) : {:.4}'.format(train_acc))\n",
        "print('- Accuracy (Valid) : {:.4}'.format(valid_acc))\n",
        "print('- Accuracy (Test) : {:.4}'.format(test_acc))\n",
        "print('f1-score : {:.4f}'.format(dt_f1))"
      ],
      "metadata": {
        "id": "EYMhrYEWRggv",
        "colab": {
          "base_uri": "https://localhost:8080/"
        },
        "outputId": "81fd572e-bcf1-4155-e0b2-03a107dd5b4b"
      },
      "execution_count": 39,
      "outputs": [
        {
          "output_type": "stream",
          "name": "stdout",
          "text": [
            "- Accuracy (Train) : 0.9948\n",
            "- Accuracy (Valid) : 0.9146\n",
            "- Accuracy (Test) : 0.971\n",
            "f1-score : 0.9707\n"
          ]
        }
      ]
    },
    {
      "cell_type": "code",
      "source": [
        "graph = Source(export_graphviz(clf_dt,\n",
        "                               out_file=None,\n",
        "                               feature_names=X.columns,\n",
        "                               ))\n",
        "Image(graph.pipe(format='png')) #['Adelie','Chinstrap','Gentoo']\n"
      ],
      "metadata": {
        "id": "a76pEOrqRv1_",
        "colab": {
          "base_uri": "https://localhost:8080/",
          "height": 514
        },
        "outputId": "32951d4e-6b6b-4511-901d-8732bf0a2ebe"
      },
      "execution_count": 40,
      "outputs": [
        {
          "output_type": "execute_result",
          "data": {
            "image/png": "[encoded data removed]",
            "text/plain": [
              "<IPython.core.display.Image object>"
            ]
          },
          "metadata": {},
          "execution_count": 40
        }
      ]
    },
    {
      "cell_type": "markdown",
      "source": [
        "##랜덤 포레스트 사용"
      ],
      "metadata": {
        "id": "pB25BUmhUj67"
      }
    },
    {
      "cell_type": "code",
      "source": [
        "from sklearn.ensemble import RandomForestClassifier\n",
        "\n",
        "clf_rf = RandomForestClassifier(random_state=2015010720,\n",
        "                                n_estimators=100,\n",
        "                                max_depth=3)\n",
        "clf_rf.fit(X_train,y_train)\n",
        "y_train_pred2 = clf_rf.predict(X_train)\n",
        "y_valid_pred2 = clf_rf.predict(X_valid)\n",
        "y_test_pred2 = clf_rf.predict(X_test)"
      ],
      "metadata": {
        "id": "07FIdyf5R7PL"
      },
      "execution_count": 41,
      "outputs": []
    },
    {
      "cell_type": "code",
      "source": [
        "train_acc2 = accuracy_score(y_train, y_train_pred2)\n",
        "valid_acc2 = accuracy_score(y_valid, y_valid_pred2)\n",
        "test_acc2 = accuracy_score(y_test, y_test_pred2)\n",
        "rf_f1 = f1_score(y_test, y_test_pred2, average='macro')\n",
        "print('- Accuracy (Train) : {:.4}'.format(train_acc2))\n",
        "print('- Accuracy (Valid) : {:.4}'.format(valid_acc2))\n",
        "print('- Accuracy (Test) : {:.4}'.format(test_acc2))\n",
        "print('f1-score : {:.4f}'.format(rf_f1))"
      ],
      "metadata": {
        "id": "L91ziz2UTwi_",
        "colab": {
          "base_uri": "https://localhost:8080/"
        },
        "outputId": "297f4629-f2b9-4db7-da0b-92d1cb7c8790"
      },
      "execution_count": 42,
      "outputs": [
        {
          "output_type": "stream",
          "name": "stdout",
          "text": [
            "- Accuracy (Train) : 0.9895\n",
            "- Accuracy (Valid) : 0.9268\n",
            "- Accuracy (Test) : 0.971\n",
            "f1-score : 0.9707\n"
          ]
        }
      ]
    },
    {
      "cell_type": "markdown",
      "source": [
        "## adaboost 사용"
      ],
      "metadata": {
        "id": "7Dw9PlxW1amy"
      }
    },
    {
      "cell_type": "code",
      "source": [
        "from sklearn.ensemble import AdaBoostClassifier\n",
        "\n",
        "\n",
        "clf_ada = AdaBoostClassifier(random_state=2020158011,\n",
        "                             n_estimators=100,\n",
        "                             learning_rate=0.1)\n",
        "clf_ada.fit(X_train,y_train)\n",
        "y_train_pred3 = clf_ada.predict(X_train)\n",
        "y_valid_pred3 = clf_ada.predict(X_valid)\n",
        "y_test_pred3 = clf_ada.predict(X_test)\n"
      ],
      "metadata": {
        "id": "W9ChhZWPUXz2"
      },
      "execution_count": 43,
      "outputs": []
    },
    {
      "cell_type": "code",
      "source": [
        "ab_f1 = f1_score(y_test, y_test_pred3, average='macro')\n",
        "train_acc3 = accuracy_score(y_train, y_train_pred3)\n",
        "valid_acc3 = accuracy_score(y_valid, y_valid_pred3)\n",
        "test_acc3 = accuracy_score(y_test, y_test_pred3)\n",
        "print('- Accuracy (Train) : {:.4}'.format(train_acc3))\n",
        "print('- Accuracy (Valid) : {:.4}'.format(valid_acc3))\n",
        "print('- Accuracy (Test) : {:.4}'.format(test_acc3))\n",
        "print('f1-score : {:.4f}'.format(ab_f1))"
      ],
      "metadata": {
        "id": "Eg4u7mIYVHPN",
        "colab": {
          "base_uri": "https://localhost:8080/"
        },
        "outputId": "98dddcd1-a9ac-46f4-8976-6b99437f13a4"
      },
      "execution_count": 44,
      "outputs": [
        {
          "output_type": "stream",
          "name": "stdout",
          "text": [
            "- Accuracy (Train) : 0.9843\n",
            "- Accuracy (Valid) : 0.9146\n",
            "- Accuracy (Test) : 0.9855\n",
            "f1-score : 0.9852\n"
          ]
        }
      ]
    },
    {
      "cell_type": "markdown",
      "source": [
        "## 결론"
      ],
      "metadata": {
        "id": "1DcPrgXIVKMh"
      }
    },
    {
      "cell_type": "code",
      "source": [
        "print('- 분류 나무 정확도 (Test) : {:.4}'.format(test_acc))\n",
        "print('- 분류 나무 f1-score (Test) : {:.4f}'.format(dt_f1))\n",
        "print('- 랜덤포레스트 정확도 (Test) : {:.4}'.format(test_acc2))\n",
        "print('- 랜덤포레스트 f1-score (Test) : {:.4f}'.format(rf_f1))\n",
        "print('- Adaboost 정확도 (Test) : {:.4}'.format(test_acc3))\n",
        "print('- Adaboost f1-score (Test) : {:.4f}'.format(ab_f1))"
      ],
      "metadata": {
        "id": "-s6Fag_RVghG",
        "colab": {
          "base_uri": "https://localhost:8080/"
        },
        "outputId": "b8292c89-f62a-42a9-e209-bcdc799be0b2"
      },
      "execution_count": 45,
      "outputs": [
        {
          "output_type": "stream",
          "name": "stdout",
          "text": [
            "- 분류 나무 정확도 (Test) : 0.971\n",
            "- 분류 나무 f1-score (Test) : 0.9707\n",
            "- 랜덤포레스트 정확도 (Test) : 0.971\n",
            "- 랜덤포레스트 f1-score (Test) : 0.9707\n",
            "- Adaboost 정확도 (Test) : 0.9855\n",
            "- Adaboost f1-score (Test) : 0.9852\n"
          ]
        }
      ]
    },
    {
      "cell_type": "markdown",
      "source": [
        "## 결과 시각화"
      ],
      "metadata": {
        "id": "CBlHfygDnxEP"
      }
    },
    {
      "cell_type": "code",
      "source": [
        "import matplotlib.pyplot as plt\n",
        "colors = ['#FF6F61', '#6BA368', '#4D9DE0']\n",
        "plt.rc('font', family=' ')\n",
        "name = ['Decision Tree', 'Random forest', 'Adaboost']\n",
        "acc = [test_acc, test_acc2, test_acc3]\n",
        "plt.figure(figsize=(6,4))\n",
        "plt.bar(name, acc,color=colors)\n",
        "plt.title('Test Acc')\n",
        "plt.ylim(0.9,1.0)\n",
        "plt.ylabel('Accuracy')\n",
        "\n",
        "plt.show()"
      ],
      "metadata": {
        "id": "5ouI8YCsV2JU",
        "colab": {
          "base_uri": "https://localhost:8080/",
          "height": 391
        },
        "outputId": "94731901-f10c-42b0-cb2c-cb5a14c4a245"
      },
      "execution_count": 46,
      "outputs": [
        {
          "output_type": "display_data",
          "data": {
            "text/plain": [
              "<Figure size 600x400 with 1 Axes>"
            ],
            "image/png": "[encoded data removed]"
          },
          "metadata": {}
        }
      ]
    },
    {
      "cell_type": "markdown",
      "source": [
        "## 결정트리 confusion matrix 확인"
      ],
      "metadata": {
        "id": "LIlom3c5ejA0"
      }
    },
    {
      "cell_type": "code",
      "source": [
        "cm = confusion_matrix(y_test, y_test_pred)\n",
        "\n",
        "# 시각화\n",
        "plt.figure(figsize=(6, 4))\n",
        "sns.heatmap(cm, annot=True, fmt=\"d\", cmap=\"Blues\", xticklabels=['Adelie', 'Chinstrap', 'Gentoo'], yticklabels=['Adelie', 'Chinstrap', 'Gentoo'])\n",
        "plt.xlabel(\"Predicted\")\n",
        "plt.ylabel(\"Actual\")\n",
        "plt.title('Decision tree')\n",
        "plt.show()\n",
        "\n",
        "f1 = f1_score(y_test, y_test_pred, average='macro')\n",
        "print(f'f1-score : {dt_f1:.4f}')\n",
        "\n"
      ],
      "metadata": {
        "id": "k_lrHyO0akhs",
        "colab": {
          "base_uri": "https://localhost:8080/",
          "height": 427
        },
        "outputId": "2ea62bf8-dcca-4799-aab3-5ad8ece2eb28"
      },
      "execution_count": 47,
      "outputs": [
        {
          "output_type": "display_data",
          "data": {
            "text/plain": [
              "<Figure size 600x400 with 2 Axes>"
            ],
            "image/png": "[encoded data removed]"
          },
          "metadata": {}
        },
        {
          "output_type": "stream",
          "name": "stdout",
          "text": [
            "f1-score : 0.9707\n"
          ]
        }
      ]
    },
    {
      "cell_type": "markdown",
      "source": [
        "## 랜덤 포레스트 confusion matrix 확인"
      ],
      "metadata": {
        "id": "ds2NJ2H_b3Ss"
      }
    },
    {
      "cell_type": "code",
      "source": [
        "cm2 = confusion_matrix(y_test, y_test_pred2)\n",
        "\n",
        "plt.figure(figsize=(6, 4))\n",
        "sns.heatmap(cm2, annot=True, fmt=\"d\", cmap=\"Blues\", xticklabels=['Adelie', 'Chinstrap', 'Gentoo'], yticklabels=['Adelie', 'Chinstrap', 'Gentoo'])\n",
        "plt.xlabel(\"Predicted\")\n",
        "plt.ylabel(\"Actual\")\n",
        "plt.title('RandomForest')\n",
        "plt.show()\n",
        "print(f'f1-score : {rf_f1:.4f}')"
      ],
      "metadata": {
        "id": "t47XEZpTex8c",
        "colab": {
          "base_uri": "https://localhost:8080/",
          "height": 427
        },
        "outputId": "448ddc50-af44-4d2c-ff02-777eb7ecac57"
      },
      "execution_count": 48,
      "outputs": [
        {
          "output_type": "display_data",
          "data": {
            "text/plain": [
              "<Figure size 600x400 with 2 Axes>"
            ],
            "image/png": "[encoded data removed]"
          },
          "metadata": {}
        },
        {
          "output_type": "stream",
          "name": "stdout",
          "text": [
            "f1-score : 0.9707\n"
          ]
        }
      ]
    },
    {
      "cell_type": "markdown",
      "source": [
        "## Adaboost Confusion matrix 확인"
      ],
      "metadata": {
        "id": "9XLNIrPinp3Q"
      }
    },
    {
      "cell_type": "code",
      "source": [
        "cm3 = confusion_matrix(y_test, y_test_pred3)\n",
        "\n",
        "plt.figure(figsize=(6, 4))\n",
        "sns.heatmap(cm3, annot=True, fmt=\"d\", cmap=\"Blues\", xticklabels=['Adelie', 'Chinstrap', 'Gentoo'], yticklabels=['Adelie', 'Chinstrap', 'Gentoo'])\n",
        "plt.xlabel(\"Predicted\")\n",
        "plt.ylabel(\"Actual\")\n",
        "plt.title('Adaboost')\n",
        "plt.show()\n",
        "print(f'f1-score : {ab_f1:.4f}')"
      ],
      "metadata": {
        "id": "71Ep64c0e08E",
        "colab": {
          "base_uri": "https://localhost:8080/",
          "height": 427
        },
        "outputId": "f2baa4ef-7179-48e3-9184-2d1ea19cb469"
      },
      "execution_count": 49,
      "outputs": [
        {
          "output_type": "display_data",
          "data": {
            "text/plain": [
              "<Figure size 600x400 with 2 Axes>"
            ],
            "image/png": "[encoded data removed]"
          },
          "metadata": {}
        },
        {
          "output_type": "stream",
          "name": "stdout",
          "text": [
            "f1-score : 0.9852\n"
          ]
        }
      ]
    },
    {
      "cell_type": "code",
      "source": [],
      "metadata": {
        "id": "wRJeTU0ufIx8"
      },
      "execution_count": 49,
      "outputs": []
    }
  ]
}