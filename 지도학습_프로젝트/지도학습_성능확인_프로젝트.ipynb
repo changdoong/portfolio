{
  "nbformat": 4,
  "nbformat_minor": 0,
  "metadata": {
    "colab": {
      "private_outputs": true,
      "provenance": []
    },
    "kernelspec": {
      "name": "python3",
      "display_name": "Python 3"
    },
    "language_info": {
      "name": "python"
    }
  },
  "cells": [
    {
      "cell_type": "markdown",
      "source": [
        "# 지도학습 알고리즘 성능비교"
      ],
      "metadata": {
        "id": "zTWuIFhpTfvG"
      }
    },
    {
      "cell_type": "code",
      "execution_count": null,
      "metadata": {
        "id": "ps-k69o5NAZC"
      },
      "outputs": [],
      "source": [
        "import seaborn as sns\n",
        "import pandas as pd\n",
        "import numpy as np"
      ]
    },
    {
      "cell_type": "markdown",
      "source": [
        "## 데이터 불러오기"
      ],
      "metadata": {
        "id": "s9tBl4kSTFUJ"
      }
    },
    {
      "cell_type": "code",
      "source": [
        "penguin_df = sns.load_dataset('penguins')\n",
        "penguin_df.head()"
      ],
      "metadata": {
        "id": "wP1ZBl0VND14"
      },
      "execution_count": null,
      "outputs": []
    },
    {
      "cell_type": "markdown",
      "source": [
        "- species : 펭귄 종  (범주형)\n",
        "- island : 서식지 섬 이름 (범주형)\n",
        "- bill_length_mm : 부리 길이 (수치형)\n",
        "- bill_depth_mm : 부리 깊이 (수치형)\n",
        "- flipper_length_mm : 지느러미 길이 (수치형)\n",
        "- body_mass_g : 몸무게 (수치형)\n",
        "- sex : 성별(범주형)"
      ],
      "metadata": {
        "id": "T8Bf_-_UfvE-"
      }
    },
    {
      "cell_type": "code",
      "source": [
        "penguin_df['species'].unique()"
      ],
      "metadata": {
        "id": "Hye_e7eFNGdc"
      },
      "execution_count": null,
      "outputs": []
    },
    {
      "cell_type": "code",
      "source": [
        "penguin_df.info()"
      ],
      "metadata": {
        "id": "6dnA0sZCNJJn"
      },
      "execution_count": null,
      "outputs": []
    },
    {
      "cell_type": "markdown",
      "source": [
        "## 데이터 전처리"
      ],
      "metadata": {
        "id": "D5QxXfJPTLwF"
      }
    },
    {
      "cell_type": "code",
      "source": [
        "from scipy.stats import chi2_contingency\n",
        "\n",
        "chi_df = penguin_df.dropna(subset=['species', 'sex'])  # 결측값 제거\n",
        "\n",
        "table = pd.crosstab(chi_df['species'], chi_df['sex'])\n",
        "\n",
        "chi2, p, dof, expected = chi2_contingency(table)\n",
        "\n",
        "print(\"Chi-squared value:\", chi2)\n",
        "print(\"p-value:\", p)\n",
        "print(\"Degrees of freedom:\", dof)\n",
        "print(\"Expected frequencies:\\n\", expected)\n"
      ],
      "metadata": {
        "id": "ONEu6gR6ZTtw"
      },
      "execution_count": null,
      "outputs": []
    },
    {
      "cell_type": "code",
      "source": [
        "m_penguin_df = penguin_df.drop(columns='sex').dropna()\n",
        "X = m_penguin_df.drop(columns='species')\n",
        "y = m_penguin_df['species']"
      ],
      "metadata": {
        "id": "UgkGFV6GNLBW"
      },
      "execution_count": null,
      "outputs": []
    },
    {
      "cell_type": "code",
      "source": [
        "X.columns"
      ],
      "metadata": {
        "id": "hSvTmcukNk78"
      },
      "execution_count": null,
      "outputs": []
    },
    {
      "cell_type": "markdown",
      "source": [
        "## 라벨 인코딩"
      ],
      "metadata": {
        "id": "aQQfQsTsTV9Z"
      }
    },
    {
      "cell_type": "code",
      "source": [
        "from sklearn.preprocessing import LabelEncoder\n",
        "\n",
        "le_y = LabelEncoder()\n",
        "y_encoded = le_y.fit_transform(y) # y 라벨 데이터 인코딩"
      ],
      "metadata": {
        "id": "ULhgkXrfNmIB"
      },
      "execution_count": null,
      "outputs": []
    },
    {
      "cell_type": "code",
      "source": [
        "le_island = LabelEncoder()\n",
        "X['island'] = le_island.fit_transform(X['island'])"
      ],
      "metadata": {
        "id": "gcScpFcaOCW-"
      },
      "execution_count": null,
      "outputs": []
    },
    {
      "cell_type": "markdown",
      "source": [
        "## 훈련데이터, 테스트데이터 분할"
      ],
      "metadata": {
        "id": "t890_BTVTaCO"
      }
    },
    {
      "cell_type": "code",
      "source": [
        "from sklearn.model_selection import train_test_split\n",
        "\n",
        "X_train, X_test, y_train, y_test = train_test_split(\n",
        "    X, y_encoded,\n",
        "    test_size=0.2,\n",
        "    random_state=2020158011\n",
        ")\n",
        "X_train, X_valid, y_train, y_valid = train_test_split(\n",
        "    X_train, y_train,\n",
        "    test_size=0.3,\n",
        "    random_state=2020158011\n",
        ")"
      ],
      "metadata": {
        "id": "qBgFYUHFOUse"
      },
      "execution_count": null,
      "outputs": []
    },
    {
      "cell_type": "markdown",
      "source": [
        "## 분류나무 사용"
      ],
      "metadata": {
        "id": "ohjDw58eR2nT"
      }
    },
    {
      "cell_type": "code",
      "source": [
        "from sklearn.tree import DecisionTreeClassifier\n",
        "from graphviz import Source\n",
        "from IPython.display import Image\n",
        "from sklearn.tree import export_graphviz\n",
        "from sklearn.metrics import accuracy_score,confusion_matrix,f1_score\n",
        "\n",
        "clf_dt = DecisionTreeClassifier(random_state=2020158011,\n",
        "                                max_depth=3,\n",
        "                                criterion = 'entropy')\n",
        "clf_dt.fit(X_train, y_train)\n",
        "y_train_pred = clf_dt.predict(X_train)\n",
        "y_valid_pred = clf_dt.predict(X_valid)\n",
        "y_test_pred = clf_dt.predict(X_test)"
      ],
      "metadata": {
        "id": "nUofUEDkOzVJ"
      },
      "execution_count": null,
      "outputs": []
    },
    {
      "cell_type": "code",
      "source": [
        "train_acc = accuracy_score(y_train, y_train_pred)\n",
        "valid_acc = accuracy_score(y_valid, y_valid_pred)\n",
        "test_acc = accuracy_score(y_test, y_test_pred)\n",
        "dt_f1 = f1_score(y_test, y_test_pred, average='macro')\n",
        "print('- Accuracy (Train) : {:.4}'.format(train_acc))\n",
        "print('- Accuracy (Valid) : {:.4}'.format(valid_acc))\n",
        "print('- Accuracy (Test) : {:.4}'.format(test_acc))\n",
        "print('f1-score : {:.4f}'.format(dt_f1))"
      ],
      "metadata": {
        "id": "EYMhrYEWRggv"
      },
      "execution_count": null,
      "outputs": []
    },
    {
      "cell_type": "code",
      "source": [
        "graph = Source(export_graphviz(clf_dt,\n",
        "                               out_file=None,\n",
        "                               feature_names=X.columns,\n",
        "                               ))\n",
        "Image(graph.pipe(format='png')) #['Adelie','Chinstrap','Gentoo']\n"
      ],
      "metadata": {
        "id": "a76pEOrqRv1_"
      },
      "execution_count": null,
      "outputs": []
    },
    {
      "cell_type": "markdown",
      "source": [
        "##랜덤 포레스트 사용"
      ],
      "metadata": {
        "id": "pB25BUmhUj67"
      }
    },
    {
      "cell_type": "code",
      "source": [
        "from sklearn.ensemble import RandomForestClassifier\n",
        "\n",
        "clf_rf = RandomForestClassifier(random_state=2015010720,\n",
        "                                n_estimators=100,\n",
        "                                max_depth=3)\n",
        "clf_rf.fit(X_train,y_train)\n",
        "y_train_pred2 = clf_rf.predict(X_train)\n",
        "y_valid_pred2 = clf_rf.predict(X_valid)\n",
        "y_test_pred2 = clf_rf.predict(X_test)"
      ],
      "metadata": {
        "id": "07FIdyf5R7PL"
      },
      "execution_count": null,
      "outputs": []
    },
    {
      "cell_type": "code",
      "source": [
        "train_acc2 = accuracy_score(y_train, y_train_pred2)\n",
        "valid_acc2 = accuracy_score(y_valid, y_valid_pred2)\n",
        "test_acc2 = accuracy_score(y_test, y_test_pred2)\n",
        "rf_f1 = f1_score(y_test, y_test_pred2, average='macro')\n",
        "print('- Accuracy (Train) : {:.4}'.format(train_acc2))\n",
        "print('- Accuracy (Valid) : {:.4}'.format(valid_acc2))\n",
        "print('- Accuracy (Test) : {:.4}'.format(test_acc2))\n",
        "print('f1-score : {:.4f}'.format(rf_f1))"
      ],
      "metadata": {
        "id": "L91ziz2UTwi_"
      },
      "execution_count": null,
      "outputs": []
    },
    {
      "cell_type": "markdown",
      "source": [
        "## adaboost 사용"
      ],
      "metadata": {
        "id": "7Dw9PlxW1amy"
      }
    },
    {
      "cell_type": "code",
      "source": [
        "from sklearn.ensemble import AdaBoostClassifier\n",
        "\n",
        "\n",
        "clf_ada = AdaBoostClassifier(random_state=2020158011,\n",
        "                             n_estimators=100,\n",
        "                             learning_rate=0.1)\n",
        "clf_ada.fit(X_train,y_train)\n",
        "y_train_pred3 = clf_ada.predict(X_train)\n",
        "y_valid_pred3 = clf_ada.predict(X_valid)\n",
        "y_test_pred3 = clf_ada.predict(X_test)\n"
      ],
      "metadata": {
        "id": "W9ChhZWPUXz2"
      },
      "execution_count": null,
      "outputs": []
    },
    {
      "cell_type": "code",
      "source": [
        "ab_f1 = f1_score(y_test, y_test_pred3, average='macro')\n",
        "train_acc3 = accuracy_score(y_train, y_train_pred3)\n",
        "valid_acc3 = accuracy_score(y_valid, y_valid_pred3)\n",
        "test_acc3 = accuracy_score(y_test, y_test_pred3)\n",
        "print('- Accuracy (Train) : {:.4}'.format(train_acc3))\n",
        "print('- Accuracy (Valid) : {:.4}'.format(valid_acc3))\n",
        "print('- Accuracy (Test) : {:.4}'.format(test_acc3))\n",
        "print('f1-score : {:.4f}'.format(ab_f1))"
      ],
      "metadata": {
        "id": "Eg4u7mIYVHPN"
      },
      "execution_count": null,
      "outputs": []
    },
    {
      "cell_type": "markdown",
      "source": [
        "## 결론"
      ],
      "metadata": {
        "id": "1DcPrgXIVKMh"
      }
    },
    {
      "cell_type": "code",
      "source": [
        "print('- 분류 나무 정확도 (Test) : {:.4}'.format(test_acc))\n",
        "print('- 분류 나무 f1-score (Test) : {:.4f}'.format(dt_f1))\n",
        "print('- 랜덤포레스트 정확도 (Test) : {:.4}'.format(test_acc2))\n",
        "print('- 랜덤포레스트 f1-score (Test) : {:.4f}'.format(rf_f1))\n",
        "print('- Adaboost 정확도 (Test) : {:.4}'.format(test_acc3))\n",
        "print('- Adaboost f1-score (Test) : {:.4f}'.format(ab_f1))"
      ],
      "metadata": {
        "id": "-s6Fag_RVghG"
      },
      "execution_count": null,
      "outputs": []
    },
    {
      "cell_type": "markdown",
      "source": [
        "## 결과 시각화"
      ],
      "metadata": {
        "id": "CBlHfygDnxEP"
      }
    },
    {
      "cell_type": "code",
      "source": [
        "import matplotlib.pyplot as plt\n",
        "colors = ['#FF6F61', '#6BA368', '#4D9DE0']\n",
        "plt.rc('font', family=' ')\n",
        "name = ['Decision Tree', 'Random forest', 'Adaboost']\n",
        "acc = [test_acc, test_acc2, test_acc3]\n",
        "plt.figure(figsize=(6,4))\n",
        "plt.bar(name, acc,color=colors)\n",
        "plt.title('Test Acc')\n",
        "plt.ylim(0.9,1.0)\n",
        "plt.ylabel('Accuracy')\n",
        "\n",
        "plt.show()"
      ],
      "metadata": {
        "id": "5ouI8YCsV2JU"
      },
      "execution_count": null,
      "outputs": []
    },
    {
      "cell_type": "markdown",
      "source": [
        "## 결정트리 confusion matrix 확인"
      ],
      "metadata": {
        "id": "LIlom3c5ejA0"
      }
    },
    {
      "cell_type": "code",
      "source": [
        "cm = confusion_matrix(y_test, y_test_pred)\n",
        "\n",
        "# 시각화\n",
        "plt.figure(figsize=(6, 4))\n",
        "sns.heatmap(cm, annot=True, fmt=\"d\", cmap=\"Blues\", xticklabels=['Adelie', 'Chinstrap', 'Gentoo'], yticklabels=['Adelie', 'Chinstrap', 'Gentoo'])\n",
        "plt.xlabel(\"Predicted\")\n",
        "plt.ylabel(\"Actual\")\n",
        "plt.title('Decision tree')\n",
        "plt.show()\n",
        "\n",
        "f1 = f1_score(y_test, y_test_pred, average='macro')\n",
        "print(f'f1-score : {dt_f1:.4f}')\n",
        "\n"
      ],
      "metadata": {
        "id": "k_lrHyO0akhs"
      },
      "execution_count": null,
      "outputs": []
    },
    {
      "cell_type": "markdown",
      "source": [
        "## 랜덤 포레스트 confusion matrix 확인"
      ],
      "metadata": {
        "id": "ds2NJ2H_b3Ss"
      }
    },
    {
      "cell_type": "code",
      "source": [
        "cm2 = confusion_matrix(y_test, y_test_pred2)\n",
        "\n",
        "plt.figure(figsize=(6, 4))\n",
        "sns.heatmap(cm2, annot=True, fmt=\"d\", cmap=\"Blues\", xticklabels=['Adelie', 'Chinstrap', 'Gentoo'], yticklabels=['Adelie', 'Chinstrap', 'Gentoo'])\n",
        "plt.xlabel(\"Predicted\")\n",
        "plt.ylabel(\"Actual\")\n",
        "plt.title('RandomForest')\n",
        "plt.show()\n",
        "print(f'f1-score : {rf_f1:.4f}')"
      ],
      "metadata": {
        "id": "t47XEZpTex8c"
      },
      "execution_count": null,
      "outputs": []
    },
    {
      "cell_type": "markdown",
      "source": [
        "## Adaboost Confusion matrix 확인"
      ],
      "metadata": {
        "id": "9XLNIrPinp3Q"
      }
    },
    {
      "cell_type": "code",
      "source": [
        "cm3 = confusion_matrix(y_test, y_test_pred3)\n",
        "\n",
        "plt.figure(figsize=(6, 4))\n",
        "sns.heatmap(cm3, annot=True, fmt=\"d\", cmap=\"Blues\", xticklabels=['Adelie', 'Chinstrap', 'Gentoo'], yticklabels=['Adelie', 'Chinstrap', 'Gentoo'])\n",
        "plt.xlabel(\"Predicted\")\n",
        "plt.ylabel(\"Actual\")\n",
        "plt.title('Adaboost')\n",
        "plt.show()\n",
        "print(f'f1-score : {ab_f1:.4f}')"
      ],
      "metadata": {
        "id": "71Ep64c0e08E"
      },
      "execution_count": null,
      "outputs": []
    },
    {
      "cell_type": "code",
      "source": [],
      "metadata": {
        "id": "wRJeTU0ufIx8"
      },
      "execution_count": null,
      "outputs": []
    }
  ]
}