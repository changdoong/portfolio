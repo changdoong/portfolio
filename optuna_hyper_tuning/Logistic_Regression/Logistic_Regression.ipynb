{
  "nbformat": 4,
  "nbformat_minor": 0,
  "metadata": {
    "colab": {
      "private_outputs": true,
      "provenance": []
    },
    "kernelspec": {
      "name": "python3",
      "display_name": "Python 3"
    },
    "language_info": {
      "name": "python"
    }
  },
  "cells": [
    {
      "cell_type": "code",
      "execution_count": null,
      "metadata": {
        "id": "7ZGJjCrIA6zu"
      },
      "outputs": [],
      "source": [
        "from sklearn.linear_model import LogisticRegression\n",
        "\n",
        "# 로지스틱 회귀용 하이퍼파라미터 범위 정의\n",
        "lr_param_ranges = {\n",
        "    'C': {'type': 'float', 'low': 0.001, 'high': 100, 'log': True},\n",
        "    'penalty': {'type': 'categorical', 'choices': ['l1', 'l2', 'elasticnet', None]},\n",
        "    'solver': {'type': 'categorical', 'choices': ['newton-cg', 'lbfgs', 'liblinear', 'sag', 'saga']}\n",
        "}\n",
        "\n",
        "# objective 함수 생성\n",
        "lr_objective = create_objective(LogisticRegression, lr_param_ranges, X_train, y_train)\n",
        "\n",
        "# Optuna 최적화 실행\n",
        "study = optuna.create_study(direction='maximize')\n",
        "study.optimize(lr_objective, n_trials=50)\n"
      ]
    }
  ]
}