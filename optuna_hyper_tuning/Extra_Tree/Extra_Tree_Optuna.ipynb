{
  "nbformat": 4,
  "nbformat_minor": 0,
  "metadata": {
    "colab": {
      "private_outputs": true,
      "provenance": []
    },
    "kernelspec": {
      "name": "python3",
      "display_name": "Python 3"
    },
    "language_info": {
      "name": "python"
    }
  },
  "cells": [
    {
      "cell_type": "code",
      "execution_count": null,
      "metadata": {
        "id": "_T14M7OhAPkL"
      },
      "outputs": [],
      "source": [
        "from sklearn.ensemble import ExtraTreesClassifier\n",
        "import optuna\n",
        "# Extra Trees용 하이퍼파라미터 범위 정의\n",
        "et_param_ranges = {\n",
        "    'n_estimators': {'type': 'int', 'low': 50, 'high': 100},\n",
        "    'max_depth': {'type': 'int', 'low': 5, 'high': 30},\n",
        "    'min_samples_split': {'type': 'int', 'low': 2, 'high': 20},\n",
        "    'min_samples_leaf': {'type': 'int', 'low': 1, 'high': 10},\n",
        "    'max_features': {'type': 'categorical', 'choices': ['sqrt', 'log2', None]},\n",
        "    'bootstrap': {'type': 'categorical', 'choices': [True, False]}\n",
        "}\n",
        "\n",
        "# objective 함수 생성\n",
        "from objective_function import create_objective\n",
        "et_objective = create_objective(ExtraTreesClassifier, et_param_ranges, X_train, y_train)\n",
        "\n",
        "# Optuna 최적화 실행\n",
        "study = optuna.create_study(direction='maximize')\n",
        "study.optimize(et_objective, n_trials=50)"
      ]
    }
  ]
}