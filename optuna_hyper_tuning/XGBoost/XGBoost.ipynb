{
  "nbformat": 4,
  "nbformat_minor": 0,
  "metadata": {
    "colab": {
      "private_outputs": true,
      "provenance": []
    },
    "kernelspec": {
      "name": "python3",
      "display_name": "Python 3"
    },
    "language_info": {
      "name": "python"
    }
  },
  "cells": [
    {
      "cell_type": "code",
      "execution_count": null,
      "metadata": {
        "id": "-VDEankKAiSV"
      },
      "outputs": [],
      "source": [
        "from xgboost import XGBClassifier\n",
        "\n",
        "# XGBoost용 하이퍼파라미터 범위 정의\n",
        "xgb_param_ranges = {\n",
        "    'n_estimators': {'type': 'int', 'low': 50, 'high': 500},\n",
        "    'max_depth': {'type': 'int', 'low': 3, 'high': 10},\n",
        "    'learning_rate': {'type': 'float', 'low': 0.01, 'high': 0.3, 'log': True},\n",
        "    'subsample': {'type': 'float', 'low': 0.5, 'high': 1.0},\n",
        "    'colsample_bytree': {'type': 'float', 'low': 0.5, 'high': 1.0},\n",
        "    'gamma': {'type': 'float', 'low': 0, 'high': 5}\n",
        "}\n",
        "\n",
        "# objective 함수 생성\n",
        "xgb_objective = create_objective(XGBClassifier, xgb_param_ranges, X_train, y_train)\n",
        "\n",
        "# Optuna 최적화 실행\n",
        "study = optuna.create_study(direction='maximize')\n",
        "study.optimize(xgb_objective, n_trials=50) #초기탐색용도"
      ]
    }
  ]
}